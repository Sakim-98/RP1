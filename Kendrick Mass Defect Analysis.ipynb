{
 "cells": [
  {
   "cell_type": "code",
   "execution_count": 7,
   "metadata": {},
   "outputs": [],
   "source": [
    "import regex as re\n",
    "import pandas as pd\n",
    "import plotly.express as px"
   ]
  },
  {
   "cell_type": "code",
   "execution_count": 9,
   "metadata": {},
   "outputs": [],
   "source": [
    "def KendrickPlot(mass,scale):\n",
    "    \n",
    "    '''Kendrick Analysis'''\n",
    "    \n",
    "    kendrick_mass_defects = list()\n",
    "    \n",
    "    #getting the multiplication factor (mult_factor) based on the scale\n",
    "    \n",
    "    integer_masses = {'C':12,'H':1, 'O':16, 'N':14,'P':31, 'S':32, 'F':19}\n",
    "    exact_masses = {'C':12.000000,'H':1.007825, 'O':15.994915, 'N':14.003074,'P':30.973763, 'S':31.972072, 'F':18.998403}\n",
    "    scale_mass = re.findall('.{1}[0-9]+', scale)\n",
    "    final_exact_mass = 0\n",
    "    final_integer_mass = 0\n",
    "    for k in scale_mass:\n",
    "        final_exact_mass += int(k[1:])*exact_masses[k[0]]\n",
    "    for k in scale_mass:\n",
    "        final_integer_mass += int(k[1:])*integer_masses[k[0]]\n",
    "        \n",
    "    mult_factor = final_integer_mass/final_exact_mass\n",
    "    \n",
    "    \n",
    "    #caculating mass on the Kendrick scale\n",
    "    \n",
    "    kendrick_mass = [x*mult_factor for x in mass]\n",
    "    \n",
    "    for i in kendrick_mass:\n",
    "        temp = i-round(i)\n",
    "        kendrick_mass_defects.append(temp)\n",
    "        \n",
    "    fig = px.scatter(x = kendrick_mass, y = kendrick_mass_defects, labels={'x':'Nominal Kendrick Mass', 'y':'Kendrick Mass Defect'})\n",
    "    fig.show()\n",
    "    \n",
    "    return "
   ]
  },
  {
   "cell_type": "code",
   "execution_count": 10,
   "metadata": {},
   "outputs": [],
   "source": [
    "peaks = [a list of peaks]"
   ]
  },
  {
   "cell_type": "code",
   "execution_count": 11,
   "metadata": {},
   "outputs": [],
   "source": [
    "trial_ = [float(x) for x in peaks]"
   ]
  },
  {
   "cell_type": "code",
   "execution_count": null,
   "metadata": {},
   "outputs": [],
   "source": [
    "KendrickPlot(trial_, 'CH2')"
   ]
  }
 ],
 "metadata": {
  "kernelspec": {
   "display_name": "Python 3",
   "language": "python",
   "name": "python3"
  },
  "language_info": {
   "codemirror_mode": {
    "name": "ipython",
    "version": 3
   },
   "file_extension": ".py",
   "mimetype": "text/x-python",
   "name": "python",
   "nbconvert_exporter": "python",
   "pygments_lexer": "ipython3",
   "version": "3.8.5"
  }
 },
 "nbformat": 4,
 "nbformat_minor": 4
}
